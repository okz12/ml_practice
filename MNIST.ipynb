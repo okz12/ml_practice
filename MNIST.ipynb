{
 "cells": [
  {
   "cell_type": "code",
   "execution_count": 18,
   "metadata": {},
   "outputs": [],
   "source": [
    "import numpy as np\n",
    "import pickle\n",
    "import matplotlib.pyplot as plt\n",
    "from sklearn.metrics import accuracy_score\n",
    "\n",
    "#MNIST data downloaded and saved as a dict in data.pickle\n",
    "with open('data.pickle', 'rb') as handle:\n",
    "    mnist_dict = pickle.load(handle)"
   ]
  },
  {
   "cell_type": "code",
   "execution_count": 19,
   "metadata": {},
   "outputs": [],
   "source": [
    "#pre-process images\n",
    "#linearise from 28*28 pixels to 784 pixels\n",
    "#standardize images: (x-mean)/standard deviation where x is a pixel and mean/std_dev are calculated for each image\n",
    "\n",
    "def pre_process(images):\n",
    "    processed_images = images.reshape(-1, 28*28) # Changing from 2D image to 1D linearised image, each image is 28 x 28\n",
    "    mean, std = np.mean(processed_images, axis=1), np.std(processed_images, axis=1)\n",
    "    processed_images = (processed_images - mean.repeat(28*28).reshape(-1,28*28))/std.repeat(28*28).reshape(-1,28*28)\n",
    "    return processed_images"
   ]
  },
  {
   "cell_type": "code",
   "execution_count": 20,
   "metadata": {},
   "outputs": [],
   "source": [
    "def get_accuracy(classifier):\n",
    "    predictions = classifier.predict(mnist_dict['test/images'])\n",
    "    return accuracy_score(mnist_dict['test/labels'], predictions) * 100"
   ]
  },
  {
   "cell_type": "code",
   "execution_count": 21,
   "metadata": {},
   "outputs": [],
   "source": [
    "mnist_dict['train/images'] = pre_process(mnist_dict['train/images'])\n",
    "mnist_dict['test/images'] = pre_process(mnist_dict['test/images'])"
   ]
  },
  {
   "cell_type": "code",
   "execution_count": 22,
   "metadata": {},
   "outputs": [
    {
     "name": "stdout",
     "output_type": "stream",
     "text": [
      "Digit 5 Example\n"
     ]
    },
    {
     "data": {
      "text/plain": [
       "<matplotlib.image.AxesImage at 0x244801c7128>"
      ]
     },
     "execution_count": 22,
     "metadata": {},
     "output_type": "execute_result"
    },
    {
     "data": {
      "image/png": "[encoded data removed]",
      "text/plain": [
       "<Figure size 432x288 with 1 Axes>"
      ]
     },
     "metadata": {},
     "output_type": "display_data"
    }
   ],
   "source": [
    "print('Digit {} Example'.format(mnist_dict['train/labels'][0]))\n",
    "plt.imshow(mnist_dict['train/images'][0].reshape(28,28))"
   ]
  },
  {
   "cell_type": "markdown",
   "metadata": {},
   "source": [
    "### SVMs"
   ]
  },
  {
   "cell_type": "code",
   "execution_count": 120,
   "metadata": {},
   "outputs": [
    {
     "name": "stdout",
     "output_type": "stream",
     "text": [
      "SVM accuracy is 97.90%\n"
     ]
    }
   ],
   "source": [
    "from sklearn import svm\n",
    "svm_classifier = svm.SVC(gamma=0.001,kernel='rbf')#RBF kernel\n",
    "svm_classifier.fit(mnist_dict['train/images'], mnist_dict['train/labels'])\n",
    "\n",
    "print (\"SVM accuracy is {:.2f}%\".format(get_accuracy(svm_classifier)))"
   ]
  },
  {
   "cell_type": "markdown",
   "metadata": {},
   "source": [
    "### Naive-Bayes"
   ]
  },
  {
   "cell_type": "code",
   "execution_count": 17,
   "metadata": {},
   "outputs": [
    {
     "name": "stdout",
     "output_type": "stream",
     "text": [
      "Multinomial Naive-Bayes accuracy is 83.65%\n"
     ]
    }
   ],
   "source": [
    "#without pre-processing\n",
    "from sklearn.naive_bayes import MultinomialNB\n",
    "NB_classifier = MultinomialNB().fit(mnist_dict['train/images'], mnist_dict['train/labels'])\n",
    "\n",
    "print (\"Multinomial Naive-Bayes accuracy is {:.2f}%\".format(get_accuracy(NB_classifier)))"
   ]
  },
  {
   "cell_type": "code",
   "execution_count": 23,
   "metadata": {},
   "outputs": [
    {
     "name": "stdout",
     "output_type": "stream",
     "text": [
      "Gaussian Naive-Bayes accuracy is 71.45%\n"
     ]
    }
   ],
   "source": [
    "from sklearn.naive_bayes import GaussianNB\n",
    "NB_classifier = GaussianNB()\n",
    "NB_classifier.fit(mnist_dict['train/images'], mnist_dict['train/labels'])\n",
    "\n",
    "print (\"Gaussian Naive-Bayes accuracy is {:.2f}%\".format(get_accuracy(NB_classifier)))"
   ]
  },
  {
   "cell_type": "markdown",
   "metadata": {},
   "source": [
    "### Logistic Regression"
   ]
  },
  {
   "cell_type": "code",
   "execution_count": 102,
   "metadata": {},
   "outputs": [
    {
     "name": "stdout",
     "output_type": "stream",
     "text": [
      "Logistic Regression accuracy is 92.61%\n"
     ]
    }
   ],
   "source": [
    "from sklearn.linear_model import LogisticRegression\n",
    "logistic_classifier = LogisticRegression(solver='lbfgs', multi_class='multinomial', n_jobs=2)\n",
    "logistic_classifier.fit(mnist_dict['train/images'], mnist_dict['train/labels'])\n",
    "\n",
    "print (\"Logistic Regression accuracy is {:.2f}%\".format(get_accuracy(logistic_classifier)))"
   ]
  },
  {
   "cell_type": "markdown",
   "metadata": {},
   "source": [
    "### Multi-Layer Perceptron"
   ]
  },
  {
   "cell_type": "code",
   "execution_count": 118,
   "metadata": {},
   "outputs": [
    {
     "name": "stdout",
     "output_type": "stream",
     "text": [
      "MLP Classifier accuracy is 95.13%\n"
     ]
    }
   ],
   "source": [
    "from sklearn.neural_network import MLPClassifier\n",
    "mlp_classifier = MLPClassifier(solver='adam', alpha=1e-5, hidden_layer_sizes=(20,))\n",
    "mlp_classifier.fit(mnist_dict['train/images'], mnist_dict['train/labels'])\n",
    "\n",
    "print (\"MLP Classifier accuracy is {:.2f}%\".format(get_accuracy(mlp_classifier)))"
   ]
  },
  {
   "cell_type": "markdown",
   "metadata": {},
   "source": [
    "### Decision Tree"
   ]
  },
  {
   "cell_type": "code",
   "execution_count": 16,
   "metadata": {},
   "outputs": [
    {
     "name": "stdout",
     "output_type": "stream",
     "text": [
      "Decision Tree accuracy is 86.81%\n"
     ]
    }
   ],
   "source": [
    "from sklearn.tree import DecisionTreeClassifier\n",
    "tree_classifier = DecisionTreeClassifier(min_samples_leaf=20)\n",
    "tree_classifier.fit(mnist_dict['train/images'], mnist_dict['train/labels'])\n",
    "\n",
    "print (\"Decision Tree accuracy is {:.2f}%\".format(get_accuracy(tree_classifier)))"
   ]
  },
  {
   "cell_type": "code",
   "execution_count": 110,
   "metadata": {},
   "outputs": [
    {
     "name": "stdout",
     "output_type": "stream",
     "text": [
      "Bagged Trees classifier accuracy is 88.20%\n"
     ]
    }
   ],
   "source": [
    "from sklearn.ensemble import BaggingClassifier\n",
    "bagging_classifier = BaggingClassifier(base_estimator=tree_classifier, n_estimators=5)#ideally use >5 trees\n",
    "bagging_classifier.fit(mnist_dict['train/images'], mnist_dict['train/labels'])\n",
    "\n",
    "print (\"Bagged Trees classifier accuracy is {:.2f}%\".format(get_accuracy(bagging_classifier)))"
   ]
  },
  {
   "cell_type": "code",
   "execution_count": 111,
   "metadata": {},
   "outputs": [
    {
     "name": "stdout",
     "output_type": "stream",
     "text": [
      "Adaboost classifier accuracy is 89.38%\n"
     ]
    }
   ],
   "source": [
    "from sklearn.ensemble import AdaBoostClassifier\n",
    "adaboost_classifier = AdaBoostClassifier(base_estimator=tree_classifier, n_estimators=5)#ideally use >5 trees\n",
    "adaboost_classifier.fit(mnist_dict['train/images'], mnist_dict['train/labels'])\n",
    "\n",
    "print (\"Adaboost classifier accuracy is {:.2f}%\".format(get_accuracy(adaboost_classifier)))"
   ]
  },
  {
   "cell_type": "markdown",
   "metadata": {},
   "source": [
    "### Random Forest"
   ]
  },
  {
   "cell_type": "code",
   "execution_count": 106,
   "metadata": {},
   "outputs": [
    {
     "name": "stdout",
     "output_type": "stream",
     "text": [
      "Random Forest classifier accuracy is 93.15%\n"
     ]
    }
   ],
   "source": [
    "from sklearn.ensemble import RandomForestClassifier\n",
    "forest_classifier = RandomForestClassifier(min_samples_leaf=20)\n",
    "forest_classifier.fit(mnist_dict['train/images'], mnist_dict['train/labels'])\n",
    "\n",
    "print (\"Random Forest classifier accuracy is {:.2f}%\".format(get_accuracy(forest_classifier)))"
   ]
  },
  {
   "cell_type": "markdown",
   "metadata": {},
   "source": [
    "### Ensemble"
   ]
  },
  {
   "cell_type": "code",
   "execution_count": 121,
   "metadata": {},
   "outputs": [
    {
     "name": "stdout",
     "output_type": "stream",
     "text": [
      "Ensemble classifier accuracy is 96.34%\n"
     ]
    }
   ],
   "source": [
    "from sklearn.ensemble import VotingClassifier\n",
    "ensemble = VotingClassifier([('mlp', mlp_classifier), ('svm', svm_classifier), ('nb', NB_classifier), ('rf', forest_classifier), ('lr', logistic_classifier)])\n",
    "ensemble.fit(mnist_dict['train/images'], mnist_dict['train/labels'])\n",
    "\n",
    "print (\"Ensemble classifier accuracy is {:.2f}%\".format(get_accuracy(ensemble)))"
   ]
  }
 ],
 "metadata": {
  "kernelspec": {
   "display_name": "Python 3",
   "language": "python",
   "name": "python3"
  },
  "language_info": {
   "codemirror_mode": {
    "name": "ipython",
    "version": 3
   },
   "file_extension": ".py",
   "mimetype": "text/x-python",
   "name": "python",
   "nbconvert_exporter": "python",
   "pygments_lexer": "ipython3",
   "version": "3.6.5"
  },
  "varInspector": {
   "cols": {
    "lenName": 16,
    "lenType": 16,
    "lenVar": 40
   },
   "kernels_config": {
    "python": {
     "delete_cmd_postfix": "",
     "delete_cmd_prefix": "del ",
     "library": "var_list.py",
     "varRefreshCmd": "print(var_dic_list())"
    },
    "r": {
     "delete_cmd_postfix": ") ",
     "delete_cmd_prefix": "rm(",
     "library": "var_list.r",
     "varRefreshCmd": "cat(var_dic_list()) "
    }
   },
   "types_to_exclude": [
    "module",
    "function",
    "builtin_function_or_method",
    "instance",
    "_Feature"
   ],
   "window_display": true
  }
 },
 "nbformat": 4,
 "nbformat_minor": 2
}
